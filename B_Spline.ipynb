{
 "cells": [
  {
   "cell_type": "markdown",
   "metadata": {
    "id": "eJob9reXnJpg"
   },
   "source": [
    "### Recusive B-Spline Algo"
   ]
  },
  {
   "cell_type": "code",
   "execution_count": 1,
   "metadata": {
    "executionInfo": {
     "elapsed": 8,
     "status": "ok",
     "timestamp": 1684642444634,
     "user": {
      "displayName": "Jingyuan He",
      "userId": "04730676503541806340"
     },
     "user_tz": 420
    },
    "id": "qczbVIwqnE4y"
   },
   "outputs": [],
   "source": [
    "import numpy as np"
   ]
  },
  {
   "cell_type": "code",
   "execution_count": 2,
   "metadata": {
    "executionInfo": {
     "elapsed": 184,
     "status": "ok",
     "timestamp": 1684643453859,
     "user": {
      "displayName": "Jingyuan He",
      "userId": "04730676503541806340"
     },
     "user_tz": 420
    },
    "id": "Dg6P2qsfnI9E"
   },
   "outputs": [],
   "source": [
    "def recB(x, k, i, t):\n",
    "    # Base case\n",
    "    if k == 0:\n",
    "        return (1.0 if (x >= t[i] and x < t[i+1]) else 0.0)\n",
    "    v_1 = (x - t[i])/(t[i+k] - t[i]) \n",
    "    v_2 = (t[i+k+1] - x)/(t[i+k+1] - t[i+1]) \n",
    "    return v_1 * recB(x, k-1, i, t) + v_2 * recB(x, k-1, i+1, t)"
   ]
  },
  {
   "cell_type": "code",
   "execution_count": 15,
   "metadata": {
    "colab": {
     "base_uri": "https://localhost:8080/"
    },
    "executionInfo": {
     "elapsed": 185,
     "status": "ok",
     "timestamp": 1684643456432,
     "user": {
      "displayName": "Jingyuan He",
      "userId": "04730676503541806340"
     },
     "user_tz": 420
    },
    "id": "2hBrR-qCo4Vo",
    "outputId": "7539146c-af94-4596-ca52-9ba370a8d55e"
   },
   "outputs": [
    {
     "name": "stdout",
     "output_type": "stream",
     "text": [
      "t [0.   0.25 0.5  0.75 1.   1.25 1.5  1.75 2.   2.25]\n",
      "c [1.0, 0.4142, 1.3178, 0.6822, 1.5539, 0.8956, 1.7502]\n",
      "S(x_0) = 0.0\n",
      "S(x_1) = 0.016867971678467306\n",
      "S(x_2) = 0.06747188671386922\n",
      "S(x_3) = 0.1518117451062058\n",
      "S(x_4) = 0.2698875468554769\n",
      "S(x_5) = 0.42169929196168265\n",
      "S(x_6) = 0.5937848812994586\n",
      "S(x_7) = 0.7209877551020408\n",
      "S(x_8) = 0.7946921699291961\n",
      "S(x_9) = 0.8148981257809246\n",
      "S(x_10) = 0.7816056226572261\n",
      "S(x_11) = 0.6954550603915034\n",
      "S(x_12) = 0.6185652228238234\n",
      "S(x_13) = 0.5919216992919617\n",
      "S(x_14) = 0.6155244897959185\n",
      "S(x_15) = 0.6893735943356936\n",
      "S(x_16) = 0.8134690129112871\n",
      "S(x_17) = 0.9651057059558518\n",
      "S(x_18) = 1.0704922948771347\n",
      "S(x_19) = 1.1239525197834237\n",
      "S(x_20) = 1.1254863806747188\n",
      "S(x_21) = 1.0750938775510204\n",
      "S(x_22) = 0.9753127030403996\n",
      "S(x_23) = 0.8952949812578093\n",
      "S(x_24) = 0.8661274468971261\n",
      "S(x_25) = 0.8878100999583508\n",
      "S(x_26) = 0.9603429404414829\n",
      "S(x_27) = 1.0837259683465228\n",
      "S(x_28) = 1.2269663265306125\n",
      "S(x_29) = 1.3211207205331115\n",
      "S(x_30) = 1.3636591211995002\n",
      "S(x_31) = 1.354581528529779\n",
      "S(x_32) = 1.2938879425239482\n",
      "S(x_33) = 1.1872814244064973\n",
      "S(x_34) = 1.1089017700957933\n",
      "S(x_35) = 1.0815612244897959\n",
      "S(x_36) = 1.1052597875885048\n",
      "S(x_37) = 1.1799974593919202\n",
      "S(x_38) = 1.3057742399000418\n",
      "S(x_39) = 1.427710329029571\n",
      "S(x_40) = 1.4626285297792587\n",
      "S(x_41) = 1.409671345272803\n",
      "S(x_42) = 1.268838775510204\n",
      "S(x_43) = 1.0401308204914617\n",
      "S(x_44) = 0.7380581007913353\n",
      "S(x_45) = 0.47235718450645553\n",
      "S(x_46) = 0.2657009162848804\n",
      "S(x_47) = 0.11808929612661388\n",
      "S(x_48) = 0.029522324031653186\n",
      "S(x_49) = 0.0\n"
     ]
    }
   ],
   "source": [
    "# example evaluation\n",
    "\n",
    "n = 7\n",
    "k = 2\n",
    "\n",
    "t = np.linspace(0, 2.25, num=n+k+1)\n",
    "print(\"t\", t)\n",
    "c = [1.0, 0.4142, 1.3178, 0.6822, 1.5539, 0.8956, 1.7502]\n",
    "print(\"c\", c)\n",
    "x = np.linspace(0, 2.25, num=50)\n",
    "\n",
    "# evaludate S(x)\n",
    "for j in range(0, len(x)):\n",
    "    S_xj = 0\n",
    "    S_xj = sum(c[i] * recB(x[j], k, i, t) for i in range(n))\n",
    "    print(\"S(x_\" + str(j) + \") = \" + str(S_xj))"
   ]
  },
  {
   "cell_type": "code",
   "execution_count": 16,
   "metadata": {
    "id": "za2EicxTrqLp"
   },
   "outputs": [],
   "source": [
    "def B(x, k, i, t):\n",
    "    if k == 0:\n",
    "        return 1.0 if t[i] <= x < t[i+1] else 0.0\n",
    "    if t[i+k] == t[i]:\n",
    "        c1 = 0.0\n",
    "    else:\n",
    "        c1 = (x - t[i])/(t[i+k] - t[i])\n",
    "    if t[i+k+1] == t[i+1]:\n",
    "        c2 = 0.0\n",
    "    else:\n",
    "        c2 = (t[i+k+1] - x)/(t[i+k+1] - t[i+1])\n",
    "\n",
    "    print(\"c1:\", c1)\n",
    "    print(\"c2:\", c2)\n",
    "    print()\n",
    "    return c1 * B(x, k-1, i, t) + c2 * B(x, k-1, i+1, t)"
   ]
  },
  {
   "cell_type": "code",
   "execution_count": 13,
   "metadata": {
    "id": "2Po3zFMurrqS"
   },
   "outputs": [],
   "source": [
    "def bspline(x, t, c, k):\n",
    "    n = len(t) - k - 1\n",
    "    #  assert (n >= k+1) and (len(c) >= n)\n",
    "    return sum(c[i] * recB(x, k, i, t) for i in range(n))"
   ]
  },
  {
   "cell_type": "code",
   "execution_count": 14,
   "metadata": {
    "colab": {
     "base_uri": "https://localhost:8080/"
    },
    "executionInfo": {
     "elapsed": 14,
     "status": "ok",
     "timestamp": 1684343931347,
     "user": {
      "displayName": "Jingyuan He",
      "userId": "04730676503541806340"
     },
     "user_tz": 420
    },
    "id": "LC3-XxuersVa",
    "outputId": "1892334a-500c-450a-cd0d-382d028a492d"
   },
   "outputs": [
    {
     "data": {
      "text/plain": [
       "1.375"
      ]
     },
     "execution_count": 14,
     "metadata": {},
     "output_type": "execute_result"
    }
   ],
   "source": [
    "# example evaluation\n",
    "bspline(2.5, t, c, k)"
   ]
  }
 ],
 "metadata": {
  "colab": {
   "authorship_tag": "ABX9TyNnZI3r7KrTJ82wd44hvt6a",
   "provenance": []
  },
  "kernelspec": {
   "display_name": "Python 3",
   "language": "python",
   "name": "python3"
  },
  "language_info": {
   "codemirror_mode": {
    "name": "ipython",
    "version": 3
   },
   "file_extension": ".py",
   "mimetype": "text/x-python",
   "name": "python",
   "nbconvert_exporter": "python",
   "pygments_lexer": "ipython3",
   "version": "3.7.3"
  }
 },
 "nbformat": 4,
 "nbformat_minor": 1
}
