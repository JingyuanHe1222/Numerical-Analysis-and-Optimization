{
 "cells": [
  {
   "cell_type": "code",
   "execution_count": 2,
   "metadata": {
    "executionInfo": {
     "elapsed": 11,
     "status": "ok",
     "timestamp": 1684031639441,
     "user": {
      "displayName": "Jingyuan He",
      "userId": "04730676503541806340"
     },
     "user_tz": 420
    },
    "id": "jDLSy7md4qS6"
   },
   "outputs": [],
   "source": [
    "import numpy as np"
   ]
  },
  {
   "cell_type": "code",
   "execution_count": 3,
   "metadata": {
    "executionInfo": {
     "elapsed": 212,
     "status": "ok",
     "timestamp": 1684031808389,
     "user": {
      "displayName": "Jingyuan He",
      "userId": "04730676503541806340"
     },
     "user_tz": 420
    },
    "id": "2PnNLeIso_I7"
   },
   "outputs": [],
   "source": [
    "def cubic_spline(t, y):\n",
    "    m = len(t) - 1 # t and y are m+1 arrays\n",
    "    # get the coefficients of the system\n",
    "    h, b = [], []\n",
    "    for i in range(0, m): # m array [0 - m-1]\n",
    "        h.append(t[i+1] - t[i])\n",
    "        b.append(6*(y[i+1] - y[i])/h[i])\n",
    "    # reduce tri-diagonal system to bi-diagonal \n",
    "    u = [2*(h[1] + h[0])] \n",
    "    v = [b[1] - b[0]] # m-1 array [0 - m-2]\n",
    "    for i in range(1, m):\n",
    "        u.append(2*(h[i] + h[i-1])- (h[i-1])**2/u[i-1])\n",
    "        v.append(b[i] - b[i-1] - (h[i-1]*v[i-1])/u[i-1])\n",
    "    # solve by back-sub\n",
    "    z = np.zeros(m+1) # z[0] = z[m] = 0 \n",
    "    for i in range(1, m): # not including 0 and m\n",
    "        z[m-i] = (v[m-i-1] - h[m-i]*z[m-i+1])/u[m-i-1] \n",
    "    # compute the S_i(x) functions\n",
    "    return z, h"
   ]
  },
  {
   "cell_type": "code",
   "execution_count": 4,
   "metadata": {
    "executionInfo": {
     "elapsed": 192,
     "status": "ok",
     "timestamp": 1684031825120,
     "user": {
      "displayName": "Jingyuan He",
      "userId": "04730676503541806340"
     },
     "user_tz": 420
    },
    "id": "E7njN5Oj4sSp"
   },
   "outputs": [],
   "source": [
    "# sample spline function\n",
    "def S_i(x, i, t, z, h, y):\n",
    "    C = y[i+1]/h[i] - z[i+1]*h[i]/6\n",
    "    D = y[i]/h[i] - z[i]*h[i]/6\n",
    "    coef_1 = -z[i]/(6*h[i])\n",
    "    coef_2 = z[i+1]/(6*h[i])\n",
    "    return coef_1*(x-t[i+1])**3 + coef_2*(x-t[i])**3 + C*(x-t[i]) + D*(t[i+1]-x)"
   ]
  },
  {
   "cell_type": "code",
   "execution_count": 5,
   "metadata": {
    "executionInfo": {
     "elapsed": 6,
     "status": "ok",
     "timestamp": 1684031823839,
     "user": {
      "displayName": "Jingyuan He",
      "userId": "04730676503541806340"
     },
     "user_tz": 420
    },
    "id": "MHXR2Z-LoDNP"
   },
   "outputs": [],
   "source": [
    "def check_x_range(x, t, m):\n",
    "    for i in range(0, m):\n",
    "        if x >= t[i] and x <= t[i+1]:\n",
    "            return i\n",
    "    return -1"
   ]
  },
  {
   "cell_type": "code",
   "execution_count": 22,
   "metadata": {
    "colab": {
     "base_uri": "https://localhost:8080/"
    },
    "executionInfo": {
     "elapsed": 141,
     "status": "ok",
     "timestamp": 1684033273495,
     "user": {
      "displayName": "Jingyuan He",
      "userId": "04730676503541806340"
     },
     "user_tz": 420
    },
    "id": "ZIo41JjFcqIR",
    "outputId": "a1602ae8-6a54-4e56-d1a4-c032737b4749"
   },
   "outputs": [
    {
     "name": "stdout",
     "output_type": "stream",
     "text": [
      "t: [1. 2. 3. 4. 5. 6. 7. 8. 9.]\n"
     ]
    }
   ],
   "source": [
    "t = np.linspace(1, 9, num=9, dtype=float)\n",
    "print(\"t:\", t)\n",
    "y = [1.5, 1, 3.5, 4.5, 1, 4, 4.5, 1, 1.5] # given -> M\n",
    "# y = [1, 2, 3, 2, 1, 2, 3, 2, 1, 2, 3]\n",
    "# x = [1.2, 1.5, 2, 2.5, 3, 3.5, 4, 4.5, 4.9] # given\n",
    "x = [10, 7, 5, 3, 1, 3, 5, 7, 10] # -> V"
   ]
  },
  {
   "cell_type": "code",
   "execution_count": 23,
   "metadata": {
    "executionInfo": {
     "elapsed": 149,
     "status": "ok",
     "timestamp": 1684033275236,
     "user": {
      "displayName": "Jingyuan He",
      "userId": "04730676503541806340"
     },
     "user_tz": 420
    },
    "id": "H7rhXYPOp-sI"
   },
   "outputs": [],
   "source": [
    "n = 7+1\n",
    "t_i = t[:n]\n",
    "x_i = x[:n]\n",
    "y_i = y[:n]"
   ]
  },
  {
   "cell_type": "code",
   "execution_count": 31,
   "metadata": {
    "executionInfo": {
     "elapsed": 174,
     "status": "ok",
     "timestamp": 1684033276147,
     "user": {
      "displayName": "Jingyuan He",
      "userId": "04730676503541806340"
     },
     "user_tz": 420
    },
    "id": "m2NEfwdqqQF7"
   },
   "outputs": [],
   "source": [
    "z_x, h_x = cubic_spline(t_i, x_i)\n",
    "z_y, h_y = cubic_spline(t_i, y_i)"
   ]
  },
  {
   "cell_type": "code",
   "execution_count": 32,
   "metadata": {
    "executionInfo": {
     "elapsed": 177,
     "status": "ok",
     "timestamp": 1684032485272,
     "user": {
      "displayName": "Jingyuan He",
      "userId": "04730676503541806340"
     },
     "user_tz": 420
    },
    "id": "AyjqndQEqQD0"
   },
   "outputs": [],
   "source": [
    "# 50 equally space points in [t_0, t_n]\n",
    "num_points = 50\n",
    "t_new = np.linspace(t_i[0], t_i[len(t_i)-1], num=num_points, dtype=float)"
   ]
  },
  {
   "cell_type": "code",
   "execution_count": 33,
   "metadata": {
    "executionInfo": {
     "elapsed": 139,
     "status": "ok",
     "timestamp": 1684032528024,
     "user": {
      "displayName": "Jingyuan He",
      "userId": "04730676503541806340"
     },
     "user_tz": 420
    },
    "id": "k11G7v42p-ib"
   },
   "outputs": [],
   "source": [
    "result_x = []\n",
    "for i in range(0, num_points):\n",
    "    range_index = check_x_range(t_new[i], t_i, num_points)\n",
    "    if range_index != -1: \n",
    "        result_x.append(S_i(t_new[i], range_index, t_i, z_x, h_x, x_i))\n",
    "    else: \n",
    "        result_x.append(-1)\n",
    "\n",
    "result_y = []\n",
    "for i in range(0, num_points):\n",
    "    range_index = check_x_range(t_new[i], t_i, num_points)\n",
    "    if range_index != -1: \n",
    "        result_y.append(S_i(t_new[i], range_index, t_i, z_y, h_y, y_i))\n",
    "    else: \n",
    "        result_y.append(-1)"
   ]
  },
  {
   "cell_type": "code",
   "execution_count": 34,
   "metadata": {
    "colab": {
     "base_uri": "https://localhost:8080/"
    },
    "executionInfo": {
     "elapsed": 130,
     "status": "ok",
     "timestamp": 1684031895999,
     "user": {
      "displayName": "Jingyuan He",
      "userId": "04730676503541806340"
     },
     "user_tz": 420
    },
    "id": "lGvJEQqfrhum",
    "outputId": "d5ac8650-5203-4bbc-9ea3-5bead2ae6eb1"
   },
   "outputs": [],
   "source": [
    "import matplotlib.pyplot as plt\n",
    "plt.style.use('seaborn-poster')"
   ]
  },
  {
   "cell_type": "code",
   "execution_count": 35,
   "metadata": {
    "colab": {
     "base_uri": "https://localhost:8080/",
     "height": 443
    },
    "executionInfo": {
     "elapsed": 435,
     "status": "ok",
     "timestamp": 1684032530245,
     "user": {
      "displayName": "Jingyuan He",
      "userId": "04730676503541806340"
     },
     "user_tz": 420
    },
    "id": "z8GEBY17JZhA",
    "outputId": "c2058031-b7e8-4215-c130-3124b3695299"
   },
   "outputs": [
    {
     "data": {
      "image/png": "[encoded data removed]",
      "text/plain": [
       "<Figure size 360x288 with 1 Axes>"
      ]
     },
     "metadata": {
      "needs_background": "light"
     },
     "output_type": "display_data"
    }
   ],
   "source": [
    "plt.figure(figsize = (5,4))\n",
    "plt.plot(t_new, result_x, 'b')\n",
    "plt.plot(t_i, x_i, 'ro')\n",
    "plt.title('Cubic Spline Interpolation')\n",
    "plt.xlabel('t')\n",
    "plt.ylabel('y')\n",
    "plt.show()"
   ]
  },
  {
   "cell_type": "code",
   "execution_count": 36,
   "metadata": {},
   "outputs": [
    {
     "data": {
      "image/png": "[encoded data removed]",
      "text/plain": [
       "<Figure size 360x288 with 1 Axes>"
      ]
     },
     "metadata": {
      "needs_background": "light"
     },
     "output_type": "display_data"
    }
   ],
   "source": [
    "plt.figure(figsize = (5,4))\n",
    "plt.plot(t_new, result_y, 'b')\n",
    "plt.plot(t_i, y_i, 'ro')\n",
    "plt.title('Cubic Spline Interpolation')\n",
    "plt.xlabel('t')\n",
    "plt.ylabel('y')\n",
    "plt.show()"
   ]
  },
  {
   "cell_type": "code",
   "execution_count": null,
   "metadata": {},
   "outputs": [],
   "source": []
  }
 ],
 "metadata": {
  "colab": {
   "authorship_tag": "ABX9TyMzM7vsXM7juGIbez3CFoqb",
   "provenance": []
  },
  "kernelspec": {
   "display_name": "Python 3",
   "language": "python",
   "name": "python3"
  },
  "language_info": {
   "codemirror_mode": {
    "name": "ipython",
    "version": 3
   },
   "file_extension": ".py",
   "mimetype": "text/x-python",
   "name": "python",
   "nbconvert_exporter": "python",
   "pygments_lexer": "ipython3",
   "version": "3.7.3"
  }
 },
 "nbformat": 4,
 "nbformat_minor": 1
}
