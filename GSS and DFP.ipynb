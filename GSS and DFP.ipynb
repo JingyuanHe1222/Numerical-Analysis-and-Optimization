{
 "cells": [
  {
   "cell_type": "code",
   "execution_count": 1,
   "metadata": {
    "executionInfo": {
     "elapsed": 13,
     "status": "ok",
     "timestamp": 1685244369993,
     "user": {
      "displayName": "Jingyuan He",
      "userId": "04730676503541806340"
     },
     "user_tz": 420
    },
    "id": "npYV0Kn-YI0d"
   },
   "outputs": [],
   "source": [
    "import numpy as np\n",
    "import math"
   ]
  },
  {
   "cell_type": "markdown",
   "metadata": {
    "id": "lL6nfSVHYbYb"
   },
   "source": [
    "### Golden Section Search Algo"
   ]
  },
  {
   "cell_type": "code",
   "execution_count": 2,
   "metadata": {
    "executionInfo": {
     "elapsed": 194,
     "status": "ok",
     "timestamp": 1685244414691,
     "user": {
      "displayName": "Jingyuan He",
      "userId": "04730676503541806340"
     },
     "user_tz": 420
    },
    "id": "Hl7a2gw3Yafh"
   },
   "outputs": [],
   "source": [
    "def golden_search(a, b, f, epsilon, M):\n",
    "    r = (math.sqrt(5)-1)/2 # r = 1-r^2\n",
    "    x = a + (b-a)*r\n",
    "    y = a + (b-a)*(1-r) # r**2 = 1-r\n",
    "    u, v = f(x), f(y)\n",
    "    for k in range(M):\n",
    "        if v < u: \n",
    "            b = x # f(x) larger so x become right bound\n",
    "            x = y\n",
    "            u = v\n",
    "            y = a + (b-a)*(1-r) # r**2 = 1-r\n",
    "            v = f(y)\n",
    "        else: \n",
    "            a = y # f(y) larger so y become \n",
    "            y = x\n",
    "            v = u\n",
    "            x = a + (b-a)*r\n",
    "            u = f(x)\n",
    "        if abs(b-a) < epsilon:\n",
    "            break\n",
    "    return (a+b)/2.0, f((a+b)/2.0)"
   ]
  },
  {
   "cell_type": "code",
   "execution_count": 3,
   "metadata": {
    "executionInfo": {
     "elapsed": 226,
     "status": "ok",
     "timestamp": 1685244416130,
     "user": {
      "displayName": "Jingyuan He",
      "userId": "04730676503541806340"
     },
     "user_tz": 420
    },
    "id": "TWlxgZUDcH4c"
   },
   "outputs": [
    {
     "name": "stdout",
     "output_type": "stream",
     "text": [
      "x_min:  1.9899110751448443\n",
      "f_x_min:  3.9798311908198496\n"
     ]
    }
   ],
   "source": [
    "# example function\n",
    "def f_1(x):\n",
    "    return 10 + x**2 - 10*math.cos(2*math.pi*x)\n",
    "\n",
    "x_min, f_x_min = golden_search(a=1.6, b=2.4, f=f_1, epsilon=10**-5, M=100)\n",
    "print(\"x_min: \", x_min)\n",
    "print(\"f_x_min: \", f_x_min)"
   ]
  },
  {
   "cell_type": "markdown",
   "metadata": {
    "id": "bsWeqljOBmen"
   },
   "source": [
    "### Linear Search Davidon-Fletcher-Powell"
   ]
  },
  {
   "cell_type": "code",
   "execution_count": 4,
   "metadata": {
    "executionInfo": {
     "elapsed": 177,
     "status": "ok",
     "timestamp": 1685244451125,
     "user": {
      "displayName": "Jingyuan He",
      "userId": "04730676503541806340"
     },
     "user_tz": 420
    },
    "id": "0v3P750HdeOq"
   },
   "outputs": [],
   "source": [
    "def lineSearch(f, g_f, x, p_k):\n",
    "    alpha_hat = 1\n",
    "    c = 10**-4\n",
    "    rou = 1/2\n",
    "    alpha = alpha_hat\n",
    "    while f(x + alpha*p_k) > f(x) + c*alpha*g_f(x).dot(p_k):\n",
    "        alpha = rou*alpha\n",
    "    return alpha"
   ]
  },
  {
   "cell_type": "code",
   "execution_count": 6,
   "metadata": {
    "executionInfo": {
     "elapsed": 179,
     "status": "ok",
     "timestamp": 1685244453761,
     "user": {
      "displayName": "Jingyuan He",
      "userId": "04730676503541806340"
     },
     "user_tz": 420
    },
    "id": "Qx2q7SEpewbh"
   },
   "outputs": [],
   "source": [
    "def DFP(x_0, f, g_f, M, epsilon):\n",
    "    n = len(x_0)\n",
    "    H_k = np.eye(n)  # Initialize Hessian approximation as identity matrix\n",
    "    x = x_0.copy()\n",
    "    \n",
    "    for k in range(M):\n",
    "        grad = g_f(x)\n",
    "        if np.linalg.norm(grad) < epsilon:\n",
    "            break\n",
    "        p_k = -H_k.dot(grad)  # direction p \n",
    "        alpha = lineSearch(f, g_f, x, p_k)  # step size from line search\n",
    "        s_k = alpha*p_k # x_new - x\n",
    "        x_new = x + s_k\n",
    "        y_k = g_f(x_new) - grad\n",
    "        term_2 = (np.outer(s_k, s_k)/np.dot(s_k, y_k))\n",
    "        term_3 = (np.outer(H_k.dot(y_k), H_k.dot(y_k))/np.dot(y_k, H_k.dot(y_k)))\n",
    "        H_k = H_k + term_2 - term_3\n",
    "        x = x_new\n",
    "    return x, f(x)"
   ]
  },
  {
   "cell_type": "code",
   "execution_count": 5,
   "metadata": {
    "executionInfo": {
     "elapsed": 196,
     "status": "ok",
     "timestamp": 1685246398890,
     "user": {
      "displayName": "Jingyuan He",
      "userId": "04730676503541806340"
     },
     "user_tz": 420
    },
    "id": "eYDgF-KyZftO"
   },
   "outputs": [],
   "source": [
    "# example function and function derivative\n",
    "def F(x):\n",
    "    return 100*(x[0]**2 - x[1])**2 + (1-x[0])**2\n",
    "\n",
    "def g_F(x):\n",
    "    g = [0, 0]\n",
    "    g[0] = 400*x[0]*(x[0]**2 - x[1]) - 2*(1 - x[0])\n",
    "    g[1] = -200*(x[0]**2 - x[1])\n",
    "    return np.array(g)"
   ]
  },
  {
   "cell_type": "code",
   "execution_count": 7,
   "metadata": {
    "colab": {
     "base_uri": "https://localhost:8080/"
    },
    "executionInfo": {
     "elapsed": 175,
     "status": "ok",
     "timestamp": 1685246857336,
     "user": {
      "displayName": "Jingyuan He",
      "userId": "04730676503541806340"
     },
     "user_tz": 420
    },
    "id": "11bgCAyPYO3q",
    "outputId": "8969b535-135b-4421-befc-e767013eaeea"
   },
   "outputs": [
    {
     "name": "stdout",
     "output_type": "stream",
     "text": [
      "x_opt:  [0.99999947 0.99999892] \n",
      " f_opt: 3.077790062892856e-13\n"
     ]
    }
   ],
   "source": [
    "x = np.transpose(np.array([-1.2, 1.0]))\n",
    "x_opt, f_opt = DFP(x, F, g_F, M=100, epsilon=1e-5)\n",
    "print(\"x_opt: \", x_opt, \"\\n\", \"f_opt:\", f_opt)"
   ]
  },
  {
   "cell_type": "markdown",
   "metadata": {
    "id": "Bmdx9yuqfkM3"
   },
   "source": [
    "### ArmijoLS Search DFP"
   ]
  },
  {
   "cell_type": "code",
   "execution_count": 8,
   "metadata": {
    "executionInfo": {
     "elapsed": 190,
     "status": "ok",
     "timestamp": 1685244486257,
     "user": {
      "displayName": "Jingyuan He",
      "userId": "04730676503541806340"
     },
     "user_tz": 420
    },
    "id": "vMqn0LWLv9A4"
   },
   "outputs": [],
   "source": [
    "def armiJoLS(func,grad,step,stepMax,f,g,p,x):\n",
    "    armijoTol = 1e-4\n",
    "    gammaC = 0.5 # contraction factor\n",
    "    jfmax = 20 # max functions per line search\n",
    "    step0 = step\n",
    "    f1, g1, x1 = f, g, x\n",
    "    gp = np.dot(g, p)\n",
    "    if gp >= 0:\n",
    "        jf = 0\n",
    "        inform = 8 # No descent direction\n",
    "    else:\n",
    "        jf = 1\n",
    "        while jf <= jfmax:\n",
    "            x1 = x + step*p\n",
    "            f1 = func(x1)\n",
    "            g1 = grad(x1)\n",
    "            if f1 <= f + armijoTol*step*gp:\n",
    "                break\n",
    "            jf = jf + 1\n",
    "            step = gammaC*step  # the step.\n",
    "    if jf <= jfmax:\n",
    "        if step == stepMax:\n",
    "            inform = 2\n",
    "        else:\n",
    "            inform = 1\n",
    "    elif f1 < f:\n",
    "        inform = 3\n",
    "    else:\n",
    "        inform = 7\n",
    "    iExit = inform\n",
    "    return step, x1, f1, g1, iExit"
   ]
  },
  {
   "cell_type": "code",
   "execution_count": 9,
   "metadata": {
    "executionInfo": {
     "elapsed": 168,
     "status": "ok",
     "timestamp": 1685244488132,
     "user": {
      "displayName": "Jingyuan He",
      "userId": "04730676503541806340"
     },
     "user_tz": 420
    },
    "id": "AHQSCL45hA6P"
   },
   "outputs": [],
   "source": [
    "def DFP_j(x_0, f, g_f, M=100, epsilon=1e-5):\n",
    "\n",
    "    H_k = np.eye(2)  # Initialize Hessian approximation as identity matrix\n",
    "    x = x_0.copy()\n",
    "    for k in range(M):\n",
    "        f_x = f(x)\n",
    "        grad = g_f(x)\n",
    "        if np.linalg.norm(grad) < epsilon:\n",
    "            break\n",
    "        p_k = -H_k.dot(grad) \n",
    "        step = 1\n",
    "        stepMax = 100\n",
    "        step, x_new, f_new, g_new, iExit = armiJoLS(f, g_f, step, stepMax, f_x, grad, p_k, x)\n",
    "\n",
    "        if iExit == 8:\n",
    "            break\n",
    "\n",
    "        s_k = step*p_k # x_new - x\n",
    "        x_prev = x\n",
    "        x = x_new\n",
    "        y_k = g_new - grad\n",
    "\n",
    "        term_2 = (np.outer(s_k, s_k)/np.dot(s_k, y_k))\n",
    "        term_3 = (np.outer(H_k.dot(y_k), H_k.dot(y_k))/np.dot(y_k, H_k.dot(y_k)))\n",
    "        H_k = H_k + term_2 - term_3\n",
    "\n",
    "    return x, f(x)"
   ]
  },
  {
   "cell_type": "code",
   "execution_count": 12,
   "metadata": {
    "colab": {
     "base_uri": "https://localhost:8080/"
    },
    "executionInfo": {
     "elapsed": 187,
     "status": "ok",
     "timestamp": 1685244491258,
     "user": {
      "displayName": "Jingyuan He",
      "userId": "04730676503541806340"
     },
     "user_tz": 420
    },
    "id": "hnTbB7yinaY0",
    "outputId": "5985f7c8-77ed-47f2-fb9f-a8e8ddb8d455"
   },
   "outputs": [
    {
     "name": "stdout",
     "output_type": "stream",
     "text": [
      "x_opt:  [0.99999947 0.99999892] \n",
      " f_opt: 3.077790062892856e-13\n"
     ]
    }
   ],
   "source": [
    "# example - ArmijoLS\n",
    "x = np.transpose(np.array([-1.2, 1.0]))\n",
    "x_opt, f_opt = DFP_j(x, F, g_F, M=100, epsilon=1e-5)\n",
    "print(\"x_opt: \", x_opt, \"\\n\", \"f_opt:\", f_opt)"
   ]
  },
  {
   "cell_type": "code",
   "execution_count": 13,
   "metadata": {
    "colab": {
     "base_uri": "https://localhost:8080/"
    },
    "executionInfo": {
     "elapsed": 159,
     "status": "ok",
     "timestamp": 1685244493138,
     "user": {
      "displayName": "Jingyuan He",
      "userId": "04730676503541806340"
     },
     "user_tz": 420
    },
    "id": "1WSRQjT7pAI9",
    "outputId": "73ee3820-81e7-4e28-c5ba-8ed85f38bc95"
   },
   "outputs": [
    {
     "name": "stdout",
     "output_type": "stream",
     "text": [
      "x_opt:  [0.99999947 0.99999892] \n",
      " f_opt: 3.077790062892856e-13\n"
     ]
    }
   ],
   "source": [
    "# example - LS\n",
    "x = np.transpose(np.array([-1.2, 1.0]))\n",
    "x_opt, f_opt = DFP(x, F, g_F, M=100, epsilon=1e-5)\n",
    "print(\"x_opt: \", x_opt, \"\\n\", \"f_opt:\", f_opt)"
   ]
  }
 ],
 "metadata": {
  "colab": {
   "authorship_tag": "ABX9TyOf7NumFdRs4CsvenfbVkaX",
   "provenance": []
  },
  "kernelspec": {
   "display_name": "Python 3",
   "language": "python",
   "name": "python3"
  },
  "language_info": {
   "codemirror_mode": {
    "name": "ipython",
    "version": 3
   },
   "file_extension": ".py",
   "mimetype": "text/x-python",
   "name": "python",
   "nbconvert_exporter": "python",
   "pygments_lexer": "ipython3",
   "version": "3.7.3"
  }
 },
 "nbformat": 4,
 "nbformat_minor": 1
}
