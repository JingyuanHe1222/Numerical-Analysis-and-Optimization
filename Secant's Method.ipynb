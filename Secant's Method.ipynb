{
 "cells": [
  {
   "cell_type": "code",
   "execution_count": 1,
   "metadata": {},
   "outputs": [],
   "source": [
    "import math"
   ]
  },
  {
   "cell_type": "markdown",
   "metadata": {},
   "source": [
    "### Secant's Method"
   ]
  },
  {
   "cell_type": "code",
   "execution_count": 3,
   "metadata": {},
   "outputs": [],
   "source": [
    "def swap(a, b):\n",
    "    a = a + b\n",
    "    b = a - b\n",
    "    a = a - b\n",
    "    return a, b"
   ]
  },
  {
   "cell_type": "code",
   "execution_count": 18,
   "metadata": {},
   "outputs": [],
   "source": [
    "def secant(func, a, b, M, delta, epsilon):\n",
    "    f_a = func(a)\n",
    "    f_b = func(b)\n",
    "    for k in range(2, M+1):\n",
    "        if abs(f_a) > abs(f_b):\n",
    "            f_a, f_b = swap(f_a, f_b)\n",
    "            a, b = swap(a, b)\n",
    "        s = (a - b) / (f_a - f_b)\n",
    "        b = a\n",
    "        f_b = f_a\n",
    "        a = a - s*f_a\n",
    "        f_a = func(a)\n",
    "\n",
    "        if abs(f_a) < epsilon or abs(a-b) < delta:\n",
    "            print(\"found a:\", a)\n",
    "            print(\"func(a) =\", f_a)\n",
    "            print(\"Iteration: \", k-1)\n",
    "            return\n",
    "            break\n",
    "    print(\"found a:\", a)\n",
    "    print(\"func(a) =\", f_a)\n",
    "    print(\"Iteration: \", M)"
   ]
  },
  {
   "cell_type": "code",
   "execution_count": 19,
   "metadata": {},
   "outputs": [],
   "source": [
    "# sample function\n",
    "def f1(x):\n",
    "    return math.sin(x/2)-1"
   ]
  },
  {
   "cell_type": "code",
   "execution_count": 20,
   "metadata": {},
   "outputs": [
    {
     "name": "stdout",
     "output_type": "stream",
     "text": [
      "found a: 3.132984300166466\n",
      "func(a) = -9.262954282163172e-06\n",
      "Iteration:  11\n"
     ]
    }
   ],
   "source": [
    "secant(f1, 0, 1, 1000, 10**-5, 10**-5)"
   ]
  }
 ],
 "metadata": {
  "kernelspec": {
   "display_name": "Python 3",
   "language": "python",
   "name": "python3"
  },
  "language_info": {
   "codemirror_mode": {
    "name": "ipython",
    "version": 3
   },
   "file_extension": ".py",
   "mimetype": "text/x-python",
   "name": "python",
   "nbconvert_exporter": "python",
   "pygments_lexer": "ipython3",
   "version": "3.7.3"
  }
 },
 "nbformat": 4,
 "nbformat_minor": 2
}
