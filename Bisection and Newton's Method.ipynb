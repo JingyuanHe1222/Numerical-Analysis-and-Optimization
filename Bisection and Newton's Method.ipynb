{
 "cells": [
  {
   "cell_type": "code",
   "execution_count": 1,
   "metadata": {
    "executionInfo": {
     "elapsed": 8,
     "status": "ok",
     "timestamp": 1683845214851,
     "user": {
      "displayName": "Jingyuan He",
      "userId": "04730676503541806340"
     },
     "user_tz": 420
    },
    "id": "maQNgkkYdmwH"
   },
   "outputs": [],
   "source": [
    "import math\n",
    "import numpy as np"
   ]
  },
  {
   "cell_type": "markdown",
   "metadata": {
    "id": "ZjwLV7irpWVJ"
   },
   "source": [
    "### Bisection Method"
   ]
  },
  {
   "cell_type": "code",
   "execution_count": 17,
   "metadata": {
    "id": "9aNXtyp2bim6"
   },
   "outputs": [],
   "source": [
    "def Bisect(func, M, width, tolerance, a, b):\n",
    "    u = func(a)\n",
    "    v = func(b)\n",
    "    if u*v > 0:\n",
    "        print(\"interval [\" + str(a) + \", \" + str(b) + \"] doesn't contain 0.\")\n",
    "        return\n",
    "    e = b - a\n",
    "    for k in range(1, M+1):\n",
    "        e = e / 2\n",
    "        c = a + e\n",
    "        w = func(c)\n",
    "        if abs(e) < width or abs(w) < tolerance:\n",
    "            print(\"find the root c:\", c)\n",
    "            print(\"f(c) = \", w)\n",
    "            return k\n",
    "        if u*w > 0:\n",
    "            a = c\n",
    "            u = w\n",
    "        else:\n",
    "            b = c\n",
    "            v = w\n",
    "    print(\"find the root c:\", c)\n",
    "    print(\"f(c) = \", w)"
   ]
  },
  {
   "cell_type": "code",
   "execution_count": 24,
   "metadata": {
    "id": "XSfIAqI9dV4R"
   },
   "outputs": [],
   "source": [
    "# sample functions\n",
    "def f1(x):\n",
    "    return 1/x - 2**x"
   ]
  },
  {
   "cell_type": "code",
   "execution_count": 25,
   "metadata": {
    "colab": {
     "base_uri": "https://localhost:8080/"
    },
    "executionInfo": {
     "elapsed": 176,
     "status": "ok",
     "timestamp": 1681924745143,
     "user": {
      "displayName": "Jingyuan He",
      "userId": "04730676503541806340"
     },
     "user_tz": 420
    },
    "id": "Q0JjTpMGdxoi",
    "outputId": "a709ebfe-098c-4eba-a6d3-c8face1f51d4"
   },
   "outputs": [
    {
     "name": "stdout",
     "output_type": "stream",
     "text": [
      "find the root c: 0.641185744504986\n",
      "f(c) =  0.0\n"
     ]
    },
    {
     "data": {
      "text/plain": [
       "53"
      ]
     },
     "execution_count": 25,
     "metadata": {},
     "output_type": "execute_result"
    }
   ],
   "source": [
    "Bisect(f1, 10000, 10**-16, 10**-16, 10**-4, 1)"
   ]
  },
  {
   "cell_type": "markdown",
   "metadata": {
    "id": "SW7wgGLrpYNk"
   },
   "source": [
    "### Newton's Method"
   ]
  },
  {
   "cell_type": "code",
   "execution_count": null,
   "metadata": {
    "id": "dlMc-SppqomI"
   },
   "outputs": [],
   "source": [
    "from sympy import *\n",
    "import math\n",
    "import numpy as np"
   ]
  },
  {
   "cell_type": "code",
   "execution_count": 39,
   "metadata": {
    "id": "td_MFyvjeYpB"
   },
   "outputs": [],
   "source": [
    "# F is m*1, X is m*1\n",
    "def Newton(M, tolerance, step, x_0, func, j_func):\n",
    "    X = x_0\n",
    "    F = func(X)\n",
    "    for i in range(1, M+1):\n",
    "        J = j_func(X) # m*m \n",
    "        if len(X) == 1:\n",
    "            h = -1/J*F\n",
    "        else:\n",
    "            # solve the system J*h = -F(X)\n",
    "            h = np.linalg.solve(J, -F)\n",
    "        for k in range(0, len(X)):\n",
    "            X[k] = X[k] + h[k]\n",
    "        F = func(X)\n",
    "        if np.linalg.norm(F) < tolerance or np.linalg.norm(h) < step:\n",
    "            print(\"find the root X: \", X)\n",
    "            print(\"F(X) =\", F)\n",
    "            print(\"Iteration:\", i)\n",
    "            return \n",
    "    print(\"find the root X: \", X)\n",
    "    print(\"F(X) =\", F)"
   ]
  },
  {
   "cell_type": "code",
   "execution_count": 33,
   "metadata": {
    "id": "MFtdieqyh2yP"
   },
   "outputs": [],
   "source": [
    "# sample functions\n",
    "def f2(x):\n",
    "    return 2*x - math.atan(x)*(1+x**2)\n",
    "def j_f2(x):\n",
    "    return 1 - 2*x*math.atan(x)\n",
    "\n",
    "def f3(x):\n",
    "    return x - math.tan(x)\n",
    "def j_f3(x):\n",
    "    return 1 - (1/math.cos(x))**2"
   ]
  },
  {
   "cell_type": "code",
   "execution_count": 40,
   "metadata": {
    "colab": {
     "base_uri": "https://localhost:8080/"
    },
    "executionInfo": {
     "elapsed": 712,
     "status": "ok",
     "timestamp": 1682449650708,
     "user": {
      "displayName": "Jingyuan He",
      "userId": "04730676503541806340"
     },
     "user_tz": 420
    },
    "id": "tQdTCA6ixCKG",
    "outputId": "ec40d21e-3ee1-4ded-e7dd-0184e64f23d3"
   },
   "outputs": [
    {
     "name": "stdout",
     "output_type": "stream",
     "text": [
      "find the root X:  [1.3917452]\n",
      "F(X) = [8.8817842e-16]\n"
     ]
    }
   ],
   "source": [
    "Newton(M=10000, tolerance=10**-16, step=10**-16, x_0=np.array([3.50]), func=f2, j_func=j_f2)"
   ]
  },
  {
   "cell_type": "code",
   "execution_count": 41,
   "metadata": {
    "colab": {
     "base_uri": "https://localhost:8080/"
    },
    "executionInfo": {
     "elapsed": 377,
     "status": "ok",
     "timestamp": 1682737591302,
     "user": {
      "displayName": "Jingyuan He",
      "userId": "04730676503541806340"
     },
     "user_tz": 420
    },
    "id": "1YGmo4YNtPe1",
    "outputId": "9ce510b2-953e-4eb1-fa23-b44e955d2b64"
   },
   "outputs": [
    {
     "name": "stdout",
     "output_type": "stream",
     "text": [
      "find the root X:  [4.49340946]\n",
      "F(X) = [-8.8817842e-16]\n",
      "Iteration: 5\n"
     ]
    }
   ],
   "source": [
    "Newton(10000, 10**-16, 10**-16, np.array([4.5]), f3, j_f3)"
   ]
  },
  {
   "cell_type": "code",
   "execution_count": 43,
   "metadata": {
    "id": "45nqaIGB4vs_"
   },
   "outputs": [],
   "source": [
    "# multi-dimensional sample function\n",
    "def F1(X):\n",
    "    x1 = X[0][0]\n",
    "    x2 = X[1][0]\n",
    "    row_1 = 4*x2**2 + 4*x2 + 52*x1 - 19\n",
    "    row_2 = 169*x1**2 + 3*x2**2 + 111*x1 - 10*x2 - 10\n",
    "    return np.array([[row_1], [row_2]])\n",
    "\n",
    "def j_F1(X):\n",
    "    x1 = X[0][0]\n",
    "    x2 = X[1][0]\n",
    "    r1_c1 = 52\n",
    "    r1_c2 = 8*x2 + 4\n",
    "    r2_c1 = 169*2*x1 + 111\n",
    "    r2_c2 = 6*x2 - 10\n",
    "    return np.array([[r1_c1, r1_c2], [r2_c1, r2_c2]])"
   ]
  },
  {
   "cell_type": "code",
   "execution_count": 44,
   "metadata": {
    "colab": {
     "base_uri": "https://localhost:8080/"
    },
    "executionInfo": {
     "elapsed": 150,
     "status": "ok",
     "timestamp": 1682738850220,
     "user": {
      "displayName": "Jingyuan He",
      "userId": "04730676503541806340"
     },
     "user_tz": 420
    },
    "id": "l5qtKXlIt_18",
    "outputId": "adca94f2-67bc-4a90-af0c-1405e3068e78"
   },
   "outputs": [
    {
     "name": "stdout",
     "output_type": "stream",
     "text": [
      "find the root X:  [[0.13419705]\n",
      " [1.30428333]]\n",
      "F(X) = [[0.]\n",
      " [0.]]\n",
      "Iteration: 6\n"
     ]
    }
   ],
   "source": [
    "Newton(10000, 10**-16, 10**-16, np.array([[0.0], [0.0]]), F1, j_F1)"
   ]
  }
 ],
 "metadata": {
  "colab": {
   "authorship_tag": "ABX9TyOtqHbytuxrCO8E4uXdL3l2",
   "provenance": []
  },
  "kernelspec": {
   "display_name": "Python 3",
   "language": "python",
   "name": "python3"
  },
  "language_info": {
   "codemirror_mode": {
    "name": "ipython",
    "version": 3
   },
   "file_extension": ".py",
   "mimetype": "text/x-python",
   "name": "python",
   "nbconvert_exporter": "python",
   "pygments_lexer": "ipython3",
   "version": "3.7.3"
  }
 },
 "nbformat": 4,
 "nbformat_minor": 1
}
