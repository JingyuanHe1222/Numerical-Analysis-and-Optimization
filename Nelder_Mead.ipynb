{
 "cells": [
  {
   "cell_type": "code",
   "execution_count": 4,
   "metadata": {
    "executionInfo": {
     "elapsed": 5,
     "status": "ok",
     "timestamp": 1685894783336,
     "user": {
      "displayName": "Jingyuan He",
      "userId": "04730676503541806340"
     },
     "user_tz": 420
    },
    "id": "b020RScp0aYR"
   },
   "outputs": [],
   "source": [
    "import numpy as np"
   ]
  },
  {
   "cell_type": "markdown",
   "metadata": {},
   "source": [
    "### Nelder Mead"
   ]
  },
  {
   "cell_type": "code",
   "execution_count": 1,
   "metadata": {
    "executionInfo": {
     "elapsed": 192,
     "status": "ok",
     "timestamp": 1685908824369,
     "user": {
      "displayName": "Jingyuan He",
      "userId": "04730676503541806340"
     },
     "user_tz": 420
    },
    "id": "Q-EI0Fr2pjSQ"
   },
   "outputs": [],
   "source": [
    "def rosenbrock(x):\n",
    "    return 100 * (x[0]**2 - x[1])**2 + (1 - x[0])**2"
   ]
  },
  {
   "cell_type": "code",
   "execution_count": 7,
   "metadata": {
    "executionInfo": {
     "elapsed": 169,
     "status": "ok",
     "timestamp": 1685908825305,
     "user": {
      "displayName": "Jingyuan He",
      "userId": "04730676503541806340"
     },
     "user_tz": 420
    },
    "id": "szDwysOt0vq8"
   },
   "outputs": [],
   "source": [
    "def toExit(f_min, f_max, epsilon):\n",
    "    return (f_max - f_min)/np.maximum(np.abs(f_max) + np.abs(f_min), 1) <= epsilon\n",
    "\n",
    "def NM(f, x, alpha, beta, gamma, epsilon, M):  \n",
    "\n",
    "    X = np.array(x) # translate to array\n",
    "\n",
    "    for k in range(1, M+1): \n",
    "\n",
    "        F = np.array([f(x_i) for x_i in X]) # F(X)\n",
    "        idx = np.argsort(F) # sort across rows(vertices)\n",
    "        X = X[idx] # sort the x values\n",
    "\n",
    "        # print(\"________________________\")\n",
    "        # print(\"iteration: \", k)\n",
    "        # print(\"X: \\n\", X)\n",
    "        # print(\"F: \\n\", F)\n",
    "\n",
    "        F_sorted = F[idx]\n",
    "        f_n = F_sorted[0] # f_min\n",
    "        f_0 = F_sorted[-1] # f_max\n",
    "        f_1 = F_sorted[-2] # f_sec_max\n",
    "\n",
    "        if (toExit(f_n, f_0, epsilon)): # convergence\n",
    "            # print(\"exit at k: \", k)\n",
    "            break\n",
    "\n",
    "        # centroid: mean of F except for the max col\n",
    "        u = np.mean(X[:-1], axis=0) # take mean across rows (features)\n",
    "        # reflection\n",
    "        v = (1 + alpha)*u - alpha*X[-1] # -x_max\n",
    "\n",
    "        # check\n",
    "        f_v = f(v)\n",
    "        # expansion\n",
    "        if f_v < f_n: # f(v) < f_min\n",
    "            w = (1+gamma)*v - gamma*u\n",
    "            f_w = f(w)\n",
    "            if (f_w < f_0):\n",
    "                X[-1] = w\n",
    "            else: \n",
    "                X[-1] = v\n",
    "        # contraction\n",
    "        else: \n",
    "            if f_v < f_1: # f_min < f(v) < f_sec_max\n",
    "                X[-1] = v\n",
    "            else: \n",
    "                b = f_0\n",
    "\n",
    "                if f_v < f_0: # f_min < f_sec_max < f(v) < f_max\n",
    "                    X[-1] = v\n",
    "\n",
    "                # contraction\n",
    "                w = beta*X[-1] + (1-beta)*u\n",
    "                f_w = f(w)\n",
    "\n",
    "                if f_w <= b: \n",
    "                    X[-1] = w\n",
    "                else: \n",
    "                    # shrink \n",
    "                    X[1:] = X[0] + 0.5*(X[1:] - X[0]) # except min column\n",
    "\n",
    "    return X[0], f_n # x_min and f_min"
   ]
  },
  {
   "cell_type": "code",
   "execution_count": 8,
   "metadata": {
    "colab": {
     "base_uri": "https://localhost:8080/"
    },
    "executionInfo": {
     "elapsed": 164,
     "status": "ok",
     "timestamp": 1685908826690,
     "user": {
      "displayName": "Jingyuan He",
      "userId": "04730676503541806340"
     },
     "user_tz": 420
    },
    "id": "DGUElTTQpifC",
    "outputId": "59f059fd-789e-4e8f-ecd5-99d1ec44570d"
   },
   "outputs": [
    {
     "name": "stdout",
     "output_type": "stream",
     "text": [
      "Solution:  [0.99970352 0.9995812 ]\n",
      "Minimum value:  3.118050268455314e-06\n"
     ]
    }
   ],
   "source": [
    "### example\n",
    "x_ini = [[-1.2, 1.0], [0.0, 0.0], [1.0, 0.0], [0.0, 1.0]]\n",
    "x_min, fx_min = NM(rosenbrock, x_ini, alpha=1, beta=0.5, gamma=1, epsilon=1e-5, M=500)\n",
    "print(\"Solution: \", x_min)\n",
    "print(\"Minimum value: \", fx_min)"
   ]
  },
  {
   "cell_type": "code",
   "execution_count": null,
   "metadata": {
    "id": "-y42K4wSx4Pi"
   },
   "outputs": [],
   "source": []
  }
 ],
 "metadata": {
  "colab": {
   "authorship_tag": "ABX9TyMBgrx7I/JL+XMbhShIaS3W",
   "provenance": []
  },
  "kernelspec": {
   "display_name": "Python 3",
   "language": "python",
   "name": "python3"
  },
  "language_info": {
   "codemirror_mode": {
    "name": "ipython",
    "version": 3
   },
   "file_extension": ".py",
   "mimetype": "text/x-python",
   "name": "python",
   "nbconvert_exporter": "python",
   "pygments_lexer": "ipython3",
   "version": "3.7.3"
  }
 },
 "nbformat": 4,
 "nbformat_minor": 1
}
